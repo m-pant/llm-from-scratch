{
 "cells": [
  {
   "cell_type": "code",
   "execution_count": 5,
   "id": "cf4b0834",
   "metadata": {},
   "outputs": [
    {
     "name": "stdout",
     "output_type": "stream",
     "text": [
      "5145\n",
      "x [290, 4920, 2241, 287]\n",
      "y [4920, 2241, 287, 257]\n",
      " and -->  established\n",
      " and established -->  himself\n",
      " and established himself -->  in\n",
      " and established himself in -->  a\n"
     ]
    }
   ],
   "source": [
    "# 2.6 Data sampling\n",
    "import tiktoken\n",
    "\n",
    "# Creating tokenizer\n",
    "tokenizer = tiktoken.get_encoding(\"gpt2\")\n",
    "\n",
    "with open (\"the-verdict.txt\", \"r\", encoding=\"utf-8\") as f:\n",
    "    raw_text = f.read()\n",
    "\n",
    "# encoding\n",
    "enc_text = tokenizer.encode(raw_text)\n",
    "print(len(enc_text))\n",
    "\n",
    "# removing fist 50 tokens\n",
    "enc_sample = enc_text[50:]\n",
    "\n",
    "# Creating input-targets pairs\n",
    "context_size = 4\n",
    "\n",
    "x = enc_sample[:context_size]\n",
    "y = enc_sample[1:context_size+1]\n",
    "print(f\"x {x}\")\n",
    "print(f\"y {y}\")\n",
    "\n",
    "for i in range(1, context_size+1):\n",
    "    context = enc_sample[:i]\n",
    "    desired = enc_sample[i]\n",
    "    print(tokenizer.decode(context), \"-->\", tokenizer.decode([desired]))\n"
   ]
  },
  {
   "cell_type": "code",
   "execution_count": 4,
   "id": "63348a7a",
   "metadata": {},
   "outputs": [
    {
     "name": "stdout",
     "output_type": "stream",
     "text": [
      "Inputs \n",
      " tensor([[   40,   367,  2885,  1464],\n",
      "        [ 1807,  3619,   402,   271],\n",
      "        [10899,  2138,   257,  7026],\n",
      "        [15632,   438,  2016,   257],\n",
      "        [  922,  5891,  1576,   438],\n",
      "        [  568,   340,   373,   645],\n",
      "        [ 1049,  5975,   284,   502],\n",
      "        [  284,  3285,   326,    11]]) \n",
      "Targets \n",
      " tensor([[  367,  2885,  1464,  1807],\n",
      "        [ 3619,   402,   271, 10899],\n",
      "        [ 2138,   257,  7026, 15632],\n",
      "        [  438,  2016,   257,   922],\n",
      "        [ 5891,  1576,   438,   568],\n",
      "        [  340,   373,   645,  1049],\n",
      "        [ 5975,   284,   502,   284],\n",
      "        [ 3285,   326,    11,   287]])\n"
     ]
    }
   ],
   "source": [
    "# Using DataLoader class from pytoch\n",
    "\n",
    "import torch\n",
    "import torch.utils.data as data\n",
    "import tiktoken\n",
    "\n",
    "\n",
    "# Creating dataset\n",
    "class GPTDatasetV1(data.Dataset):\n",
    "    def __init__(self, txt, tokenizer, max_len, stride = 1):\n",
    "        super().__init__()\n",
    "        self.input_ids = []\n",
    "        self.target_ids = []\n",
    "\n",
    "        # Getting indexes\n",
    "        torken_ids = tokenizer.encode(txt)\n",
    "\n",
    "        # Making shift as in previos example\n",
    "        for i in range(0, len(torken_ids) - max_len, stride ):\n",
    "            input_chunk = torken_ids[i: i+max_len]\n",
    "            target_chunk = torken_ids[i+1 : i + max_len +1 ]\n",
    "            self.input_ids.append(torch.tensor(input_chunk))\n",
    "            self.target_ids.append(torch.tensor(target_chunk))\n",
    "\n",
    "    def __getitem__(self, index):\n",
    "        return self.input_ids[index] , self.target_ids[index]\n",
    "    \n",
    "    def __len__(self):\n",
    "        return len(self.input_ids)\n",
    "\n",
    "# creating Dataloader\n",
    "tokenizer = tiktoken.get_encoding(\"gpt2\")\n",
    "\n",
    "with open (\"the-verdict.txt\", \"r\", encoding=\"utf-8\") as f:\n",
    "    raw_text = f.read()\n",
    "\n",
    "dataset = GPTDatasetV1(raw_text, tokenizer, max_len=4, stride=4)\n",
    "d_train = data.DataLoader(dataset,batch_size=8, shuffle=False)\n",
    "\n",
    "data_iter = iter(d_train)\n",
    "inputs, targets = next(data_iter)\n",
    "print(f\"Inputs \\n {inputs} \\nTargets \\n {targets}\")\n",
    "\n"
   ]
  }
 ],
 "metadata": {
  "kernelspec": {
   "display_name": "dl",
   "language": "python",
   "name": "python3"
  },
  "language_info": {
   "codemirror_mode": {
    "name": "ipython",
    "version": 3
   },
   "file_extension": ".py",
   "mimetype": "text/x-python",
   "name": "python",
   "nbconvert_exporter": "python",
   "pygments_lexer": "ipython3",
   "version": "3.13.7"
  }
 },
 "nbformat": 4,
 "nbformat_minor": 5
}
