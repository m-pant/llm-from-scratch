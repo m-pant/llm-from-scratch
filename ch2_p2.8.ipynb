{
 "cells": [
  {
   "cell_type": "code",
   "execution_count": null,
   "id": "c673965e",
   "metadata": {},
   "outputs": [
    {
     "name": "stdout",
     "output_type": "stream",
     "text": [
      "Inputs \n",
      " tensor([[   40,   367,  2885,  1464],\n",
      "        [ 1807,  3619,   402,   271],\n",
      "        [10899,  2138,   257,  7026],\n",
      "        [15632,   438,  2016,   257],\n",
      "        [  922,  5891,  1576,   438],\n",
      "        [  568,   340,   373,   645],\n",
      "        [ 1049,  5975,   284,   502],\n",
      "        [  284,  3285,   326,    11]]) \n",
      "Targets \n",
      " tensor([[  367,  2885,  1464,  1807],\n",
      "        [ 3619,   402,   271, 10899],\n",
      "        [ 2138,   257,  7026, 15632],\n",
      "        [  438,  2016,   257,   922],\n",
      "        [ 5891,  1576,   438,   568],\n",
      "        [  340,   373,   645,  1049],\n",
      "        [ 5975,   284,   502,   284],\n",
      "        [ 3285,   326,    11,   287]]) \n",
      "Inputs shape:\n",
      " torch.Size([8, 4])\n"
     ]
    }
   ],
   "source": [
    "# 2.8 Encoding word posiotions\n",
    "\n",
    "import torch\n",
    "import torch.utils.data as data\n",
    "import tiktoken\n",
    "\n",
    "# Using dataset and laoder from 2.6\n",
    "max_len = 4\n",
    "# Creating dataset\n",
    "class GPTDatasetV1(data.Dataset):\n",
    "    def __init__(self, txt, tokenizer, max_len, stride = 1):\n",
    "        super().__init__()\n",
    "        self.input_ids = []\n",
    "        self.target_ids = []\n",
    "\n",
    "        # Getting indexes\n",
    "        torken_ids = tokenizer.encode(txt)\n",
    "\n",
    "        # Making shift as in previos example\n",
    "        for i in range(0, len(torken_ids) - max_len, stride ):\n",
    "            input_chunk = torken_ids[i: i+max_len]\n",
    "            target_chunk = torken_ids[i+1 : i + max_len +1 ]\n",
    "            self.input_ids.append(torch.tensor(input_chunk))\n",
    "            self.target_ids.append(torch.tensor(target_chunk))\n",
    "\n",
    "    def __getitem__(self, index):\n",
    "        return self.input_ids[index] , self.target_ids[index]\n",
    "    \n",
    "    def __len__(self):\n",
    "        return len(self.input_ids)\n",
    "\n",
    "# creating Dataloader\n",
    "tokenizer = tiktoken.get_encoding(\"gpt2\")\n",
    "\n",
    "with open (\"the-verdict.txt\", \"r\", encoding=\"utf-8\") as f:\n",
    "    raw_text = f.read()\n",
    "\n",
    "dataset = GPTDatasetV1(raw_text, tokenizer, max_len=max_len, stride=4)\n",
    "d_train = data.DataLoader(dataset,batch_size=8, shuffle=False)\n",
    "\n",
    "data_iter = iter(d_train)\n",
    "inputs, targets = next(data_iter)\n",
    "print(f\"Inputs \\n {inputs} \\nTargets \\n {targets} \\nInputs shape:\\n {inputs.shape}\")\n"
   ]
  },
  {
   "cell_type": "code",
   "execution_count": null,
   "id": "bac9fe69",
   "metadata": {},
   "outputs": [
    {
     "name": "stdout",
     "output_type": "stream",
     "text": [
      "torch.Size([8, 4, 256])\n"
     ]
    }
   ],
   "source": [
    "# For ex we take 256-dim vector of embedding size for BPE encoder dict\n",
    "vocab_size = 50257\n",
    "output_dim = 256\n",
    "token_embeddin_layer = torch.nn.Embedding(vocab_size, output_dim)\n",
    "\n",
    "# Embend this inputs\n",
    "token_embeddings = token_embeddin_layer(inputs)\n",
    "print(token_embeddings.shape)\n",
    "\n",
    "# torch.Size([8, 4, 256])\n",
    "# 8 -batches, 4 -tokens, 256 -embeddings"
   ]
  },
  {
   "cell_type": "code",
   "execution_count": 4,
   "id": "8115a7fa",
   "metadata": {},
   "outputs": [
    {
     "name": "stdout",
     "output_type": "stream",
     "text": [
      "torch.Size([4, 256])\n"
     ]
    }
   ],
   "source": [
    "# Creating positional embeddings\n",
    "max_len = 4\n",
    "context_len = max_len\n",
    "pos_embedding_layer = torch.nn.Embedding(context_len, output_dim)\n",
    "pos_embeddings = pos_embedding_layer(torch.arange(context_len))\n",
    "print(pos_embeddings.shape)"
   ]
  },
  {
   "cell_type": "code",
   "execution_count": 5,
   "id": "9e09e976",
   "metadata": {},
   "outputs": [
    {
     "name": "stdout",
     "output_type": "stream",
     "text": [
      "torch.Size([8, 4, 256])\n"
     ]
    }
   ],
   "source": [
    "# Creation of input embeddings\n",
    "input_embeddings = token_embeddings + pos_embeddings\n",
    "print(input_embeddings.shape)"
   ]
  }
 ],
 "metadata": {
  "kernelspec": {
   "display_name": "dl",
   "language": "python",
   "name": "python3"
  },
  "language_info": {
   "codemirror_mode": {
    "name": "ipython",
    "version": 3
   },
   "file_extension": ".py",
   "mimetype": "text/x-python",
   "name": "python",
   "nbconvert_exporter": "python",
   "pygments_lexer": "ipython3",
   "version": "3.13.7"
  }
 },
 "nbformat": 4,
 "nbformat_minor": 5
}
